{
 "cells": [
  {
   "cell_type": "code",
   "execution_count": 1,
   "metadata": {},
   "outputs": [],
   "source": [
    "from cassandra.cluster import Cluster\n",
    "import uuid"
   ]
  },
  {
   "cell_type": "code",
   "execution_count": 2,
   "metadata": {},
   "outputs": [
    {
     "data": {
      "text/plain": [
       "<cassandra.cluster.ResultSet at 0x7f50185160d0>"
      ]
     },
     "execution_count": 2,
     "metadata": {},
     "output_type": "execute_result"
    }
   ],
   "source": [
    "# you need to connect first using sudo cassandra -f otherwise connection err\n",
    "cluster = Cluster(['cassandra']) # can support multiple IPs\n",
    "session = cluster.connect()\n",
    "keyspace = \"ict\"\n",
    "\n",
    "# this is for cleaning\n",
    "session.execute(\"DROP KEYSPACE IF EXISTS %s\" % keyspace)\n"
   ]
  },
  {
   "cell_type": "code",
   "execution_count": 3,
   "metadata": {},
   "outputs": [
    {
     "data": {
      "text/plain": [
       "<cassandra.cluster.ResultSet at 0x7f5018d78190>"
      ]
     },
     "execution_count": 3,
     "metadata": {},
     "output_type": "execute_result"
    }
   ],
   "source": [
    "# create the ict keyspace\n",
    "session.execute(\"\"\"\n",
    "        CREATE KEYSPACE %s\n",
    "        WITH replication = { 'class': 'SimpleStrategy', 'replication_factor': '1' }\n",
    "        \"\"\" % keyspace)"
   ]
  },
  {
   "cell_type": "code",
   "execution_count": 4,
   "metadata": {},
   "outputs": [],
   "source": [
    "# use it \n",
    "session.set_keyspace(keyspace)"
   ]
  },
  {
   "cell_type": "code",
   "execution_count": 5,
   "metadata": {},
   "outputs": [
    {
     "data": {
      "text/plain": [
       "<cassandra.cluster.ResultSet at 0x7f5018d66a60>"
      ]
     },
     "execution_count": 5,
     "metadata": {},
     "output_type": "execute_result"
    }
   ],
   "source": [
    "# remove the data stores if this already exists (perhaps a previous run)\n",
    "session.execute(\"drop table if exists student\")\n",
    "session.execute(\"\"\"\n",
    "        CREATE TABLE student (\n",
    "            studid uuid,\n",
    "            name text,\n",
    "            surname text,\n",
    "            email text,\n",
    "            PRIMARY KEY (studid)\n",
    "        )\n",
    "        \"\"\")"
   ]
  },
  {
   "cell_type": "code",
   "execution_count": 6,
   "metadata": {},
   "outputs": [
    {
     "data": {
      "text/plain": [
       "<cassandra.cluster.ResultSet at 0x7f501853f8e0>"
      ]
     },
     "execution_count": 6,
     "metadata": {},
     "output_type": "execute_result"
    }
   ],
   "source": [
    "# uuid is generated from python module with same name\n",
    "session.execute(\n",
    "    \"\"\"\n",
    "    INSERT INTO student (name, surname, email, studid)\n",
    "    VALUES (%s, %s, %s, %s)\n",
    "    \"\"\",\n",
    "    (\"Yurgen\", \"Schembri\", \"ys@facebook.com\", uuid.uuid1())\n",
    ")"
   ]
  },
  {
   "cell_type": "code",
   "execution_count": 7,
   "metadata": {},
   "outputs": [
    {
     "name": "stdout",
     "output_type": "stream",
     "text": [
      "Yurgen Schembri ys@facebook.com\n"
     ]
    }
   ],
   "source": [
    "# get the student and pri\n",
    "rows = session.execute('SELECT studid, name, surname, email FROM student')\n",
    "for stud in rows:\n",
    "    print(stud.name, stud.surname, stud.email)"
   ]
  },
  {
   "cell_type": "code",
   "execution_count": 8,
   "metadata": {},
   "outputs": [],
   "source": [
    "## async\n",
    "\n",
    "def handle_success(rows):\n",
    "    stud = rows[0]\n",
    "    print(stud.name, stud.surname, stud.studid)\n",
    "\n",
    "def handle_error(exception):\n",
    "    print(exception)\n",
    "\n",
    "# sometimes (mostly the first time) nothing is shown here.  Why?  hint: async\n",
    "future = session.execute_async('SELECT studid, name, surname, email FROM student')\n",
    "future.add_callbacks(handle_success, handle_error)"
   ]
  },
  {
   "cell_type": "markdown",
   "metadata": {},
   "source": [
    "Doing a delete without specifying the primary key would mean Cassandra would have to first do the distributed search to get all of the records. Then internally issue the delete for all of those records. While it would be possible to implement, it is very different from the current write path inside Cassandra.  Good to know limitations."
   ]
  },
  {
   "cell_type": "code",
   "execution_count": 9,
   "metadata": {},
   "outputs": [
    {
     "name": "stdout",
     "output_type": "stream",
     "text": [
      "Yurgen Schembri 28c80d98-34ac-11eb-99dc-0242ac110007\n"
     ]
    },
    {
     "ename": "InvalidRequest",
     "evalue": "Error from server: code=2200 [Invalid query] message=\"Some partition key parts are missing: studid\"",
     "output_type": "error",
     "traceback": [
      "\u001b[0;31m---------------------------------------------------------------------------\u001b[0m",
      "\u001b[0;31mInvalidRequest\u001b[0m                            Traceback (most recent call last)",
      "\u001b[0;32m<ipython-input-9-28a9a0fe58a7>\u001b[0m in \u001b[0;36m<module>\u001b[0;34m\u001b[0m\n\u001b[0;32m----> 1\u001b[0;31m \u001b[0msession\u001b[0m\u001b[0;34m.\u001b[0m\u001b[0mexecute\u001b[0m\u001b[0;34m(\u001b[0m\u001b[0;34m\"delete from student where name = 'Yurgen'\"\u001b[0m\u001b[0;34m)\u001b[0m \u001b[0;31m# this does not work, why?\u001b[0m\u001b[0;34m\u001b[0m\u001b[0;34m\u001b[0m\u001b[0m\n\u001b[0m",
      "\u001b[0;32m/opt/conda/envs/py38/lib/python3.8/site-packages/cassandra/cluster.cpython-38-x86_64-linux-gnu.so\u001b[0m in \u001b[0;36mcassandra.cluster.Session.execute\u001b[0;34m()\u001b[0m\n",
      "\u001b[0;32m/opt/conda/envs/py38/lib/python3.8/site-packages/cassandra/cluster.cpython-38-x86_64-linux-gnu.so\u001b[0m in \u001b[0;36mcassandra.cluster.ResponseFuture.result\u001b[0;34m()\u001b[0m\n",
      "\u001b[0;31mInvalidRequest\u001b[0m: Error from server: code=2200 [Invalid query] message=\"Some partition key parts are missing: studid\""
     ]
    }
   ],
   "source": [
    "session.execute(\"delete from student where name = 'Yurgen'\") # this does not work, why?"
   ]
  },
  {
   "cell_type": "code",
   "execution_count": 10,
   "metadata": {},
   "outputs": [
    {
     "name": "stdout",
     "output_type": "stream",
     "text": [
      "28c80d98-34ac-11eb-99dc-0242ac110007\n"
     ]
    }
   ],
   "source": [
    "result = session.execute(\"select * from student\")\n",
    "for r in result:\n",
    "    print(r.studid)"
   ]
  },
  {
   "cell_type": "code",
   "execution_count": 11,
   "metadata": {},
   "outputs": [
    {
     "data": {
      "text/plain": [
       "<cassandra.cluster.ResultSet at 0x7f5018d71eb0>"
      ]
     },
     "execution_count": 11,
     "metadata": {},
     "output_type": "execute_result"
    }
   ],
   "source": [
    "session.execute(\"delete from student where studid = %s\" % r.studid) # this works"
   ]
  },
  {
   "cell_type": "code",
   "execution_count": 12,
   "metadata": {},
   "outputs": [],
   "source": [
    "result = session.execute(\"select * from student\") # Yurgen, gone with the wind\n",
    "for r in result:\n",
    "    print(r.studid)"
   ]
  },
  {
   "cell_type": "code",
   "execution_count": null,
   "metadata": {},
   "outputs": [],
   "source": []
  }
 ],
 "metadata": {
  "kernelspec": {
   "display_name": "Python 3",
   "language": "python",
   "name": "python3"
  },
  "language_info": {
   "codemirror_mode": {
    "name": "ipython",
    "version": 3
   },
   "file_extension": ".py",
   "mimetype": "text/x-python",
   "name": "python",
   "nbconvert_exporter": "python",
   "pygments_lexer": "ipython3",
   "version": "3.8.5"
  }
 },
 "nbformat": 4,
 "nbformat_minor": 4
}
