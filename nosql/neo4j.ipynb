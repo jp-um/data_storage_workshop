{
 "cells": [
  {
   "cell_type": "code",
   "execution_count": 1,
   "metadata": {},
   "outputs": [],
   "source": [
    "from neo4j import GraphDatabase"
   ]
  },
  {
   "cell_type": "code",
   "execution_count": 2,
   "metadata": {},
   "outputs": [],
   "source": [
    "graph = GraphDatabase.driver(\"bolt://neo4j:7687\", auth=(\"neo4j\", \"test\"), encrypted=False)"
   ]
  },
  {
   "cell_type": "code",
   "execution_count": 3,
   "metadata": {},
   "outputs": [],
   "source": [
    "# clear all existing nodes, should use this on a huge database (just delete the graphdb file)\n",
    "with graph.session() as session:\n",
    "    session.run(\"MATCH (n) DETACH DELETE n\")"
   ]
  },
  {
   "cell_type": "markdown",
   "metadata": {},
   "source": [
    "# Create Nodes"
   ]
  },
  {
   "cell_type": "code",
   "execution_count": 4,
   "metadata": {},
   "outputs": [],
   "source": [
    "def create_person(tx, name, email=None):\n",
    "    return tx.run(\"CREATE (a:Person {name:$name, email:$email}) \"\n",
    "                  \"RETURN id(a)\", name=name, email=email).single().value()\n",
    "\n",
    "with graph.session() as session:\n",
    "    # some nodes have extra attributes (e.g. email)\n",
    "    jp_node_id = session.write_transaction(create_person, \"JP\", \"jean.p.ebejer@um.edu.mt\")\n",
    "    matthew_node_id = session.write_transaction(create_person, \"Matthew\")\n",
    "    marc_node_id = session.write_transaction(create_person, \"Marc\")\n",
    "    jasmine_node_id = session.write_transaction(create_person, \"Jasmine\")    "
   ]
  },
  {
   "cell_type": "markdown",
   "metadata": {},
   "source": [
    "# Create Relationships"
   ]
  },
  {
   "cell_type": "code",
   "execution_count": 5,
   "metadata": {},
   "outputs": [],
   "source": [
    "# don't use internal Neo4j IDs  as not reccommended\n",
    "\n",
    "def create_lectures(tx, a_name, b_name):\n",
    "    return tx.run(\"MATCH (a:Person {name: $a_name})\"\n",
    "                  \"MATCH (b:Person {name: $b_name})\"\n",
    "                  \"CREATE (a)-[r:LECTURES]->(b)\"\n",
    "                  \"RETURN type(r)\", a_name=a_name, b_name=b_name).single().value()\n",
    "\n",
    "def create_friends_bidirectional(tx, a_name, b_name, expires=None):\n",
    "    return tx.run(\"MATCH (a:Person {name: $a_name})\"\n",
    "                  \"MATCH (b:Person {name: $b_name})\"\n",
    "                  \"CREATE (a)-[r1:FRIENDS { expires: $expires }]->(b)\"\n",
    "                  \"CREATE (a)<-[r2:FRIENDS { expires: $expires }]-(b)\" # looks silly but create only allows directional\n",
    "                  \"RETURN type(r1)\", a_name=a_name, b_name=b_name, expires=expires).single().value()\n",
    "\n",
    "with graph.session() as session:\n",
    "    session.write_transaction(create_lectures, \"JP\", \"Matthew\")    \n",
    "    session.write_transaction(create_lectures, \"JP\", \"Jasmine\")\n",
    "    session.write_transaction(create_friends_bidirectional, \"Jasmine\", \"Marc\")\n",
    "    session.write_transaction(create_friends_bidirectional, \"Jasmine\", \"Matthew\", \"Jan 2019\")"
   ]
  },
  {
   "cell_type": "markdown",
   "metadata": {},
   "source": [
    "You can have a look at the above graph via your web browser http://localhost:7474/browser/.  There is a helpful [Neo4j Cypher cheatsheet](https://neo4j.com/docs/pdf/neo4j-cypher-refcard-stable.pdf)."
   ]
  },
  {
   "cell_type": "code",
   "execution_count": 6,
   "metadata": {},
   "outputs": [
    {
     "name": "stdout",
     "output_type": "stream",
     "text": [
      "JP\n",
      "Matthew\n",
      "Marc\n",
      "Jasmine\n"
     ]
    }
   ],
   "source": [
    "def get_all_names(tx):\n",
    "    names = []\n",
    "    for record in tx.run(\"MATCH (p:Person) RETURN p.name AS name\"):\n",
    "        print(record['name'])\n",
    "        names.append(record['name'])\n",
    "    return names\n",
    "\n",
    "# Example of the cypher language\n",
    "with graph.session() as session:\n",
    "    session.read_transaction(get_all_names)    "
   ]
  },
  {
   "cell_type": "code",
   "execution_count": 7,
   "metadata": {},
   "outputs": [
    {
     "name": "stdout",
     "output_type": "stream",
     "text": [
      "JP jean.p.ebejer@um.edu.mt\n",
      "dict_keys(['name', 'email'])\n",
      "dict_values(['JP', 'jean.p.ebejer@um.edu.mt'])\n"
     ]
    }
   ],
   "source": [
    "  \n",
    "def match_person_node(tx, name):\n",
    "    result = tx.run(\"MATCH (a:Person {name: $name}) RETURN a\", name=name)\n",
    "    return result.single()[0]\n",
    "\n",
    "with graph.session() as session:\n",
    "    record = session.read_transaction(match_person_node, \"JP\")\n",
    "    print(record['name'], record['email'])\n",
    "    print(record.keys())\n",
    "    print(record.values())"
   ]
  },
  {
   "cell_type": "code",
   "execution_count": 8,
   "metadata": {},
   "outputs": [
    {
     "name": "stdout",
     "output_type": "stream",
     "text": [
      "LECTURES\n",
      "FRIENDS\n"
     ]
    }
   ],
   "source": [
    "with graph.session() as session:\n",
    "    rels = session.run(\"MATCH (n)-[r]-(m) RETURN distinct type(r) as r\")\n",
    "    for r in rels:\n",
    "        print(r['r'])"
   ]
  },
  {
   "cell_type": "code",
   "execution_count": 9,
   "metadata": {},
   "outputs": [
    {
     "name": "stdout",
     "output_type": "stream",
     "text": [
      "JP\n",
      "Matthew\n",
      "Marc\n",
      "Jasmine\n"
     ]
    }
   ],
   "source": [
    "with graph.session() as session:\n",
    "    record = session.run(\"MATCH (n) return n\")\n",
    "    for r in record:\n",
    "        print(r['n']['name'])"
   ]
  },
  {
   "cell_type": "code",
   "execution_count": 10,
   "metadata": {},
   "outputs": [
    {
     "name": "stdout",
     "output_type": "stream",
     "text": [
      "Jasmine\n",
      "Matthew\n"
     ]
    }
   ],
   "source": [
    "with graph.session() as session:\n",
    "    record = session.run(\"MATCH (a:Person)-[:LECTURES]->(s)\"\n",
    "                         \"WHERE a.name = $name \"\n",
    "                         \"RETURN s.name as name\", name=\"JP\")\n",
    "    for r in record:\n",
    "        print(r['name'])"
   ]
  },
  {
   "cell_type": "code",
   "execution_count": 11,
   "metadata": {},
   "outputs": [
    {
     "name": "stdout",
     "output_type": "stream",
     "text": [
      "Matthew\n",
      "Marc\n"
     ]
    }
   ],
   "source": [
    "# from all of Jasmine friends ...\n",
    "with graph.session() as session:\n",
    "    results = session.run('MATCH (Person { name:\"Jasmine\" })-[:FRIENDS]->(x) RETURN x as jasmine_friend')\n",
    "    for jf in results:\n",
    "        print(jf['jasmine_friend']['name'])"
   ]
  },
  {
   "cell_type": "code",
   "execution_count": 12,
   "metadata": {},
   "outputs": [],
   "source": [
    "# add some more data\n",
    "with graph.session() as session:\n",
    "    # some nodes have extra attributes (e.g. email)\n",
    "    session.write_transaction(create_person, \"Caroline\")\n",
    "    session.write_transaction(create_person, \"Michael\")\n",
    "    session.write_transaction(create_friends_bidirectional, \"Marc\", \"Caroline\")\n",
    "    session.write_transaction(create_friends_bidirectional, \"Caroline\", \"Michael\")\n",
    "    session.write_transaction(create_friends_bidirectional, \"Michael\", \"Matthew\")"
   ]
  },
  {
   "cell_type": "code",
   "execution_count": 13,
   "metadata": {},
   "outputs": [
    {
     "name": "stdout",
     "output_type": "stream",
     "text": [
      "[<Node id=2 labels=frozenset({'Person'}) properties={'name': 'Marc'}>, <Node id=3 labels=frozenset({'Person'}) properties={'name': 'Jasmine'}>, <Node id=1 labels=frozenset({'Person'}) properties={'name': 'Matthew'}>]\n",
      "[<Node id=2 labels=frozenset({'Person'}) properties={'name': 'Marc'}>, <Node id=4 labels=frozenset({'Person'}) properties={'name': 'Caroline'}>, <Node id=5 labels=frozenset({'Person'}) properties={'name': 'Michael'}>, <Node id=1 labels=frozenset({'Person'}) properties={'name': 'Matthew'}>]\n"
     ]
    }
   ],
   "source": [
    "\n",
    "# Find all paths from Marc to Matthew\n",
    "with graph.session() as session:\n",
    "    results = session.run('MATCH p = ((p1:Person { name:\"Marc\" })-[r:FRIENDS*1..]->(p2:Person { name:\"Matthew\" })) '\n",
    "                          'WHERE ALL(x IN NODES(p) WHERE SINGLE(y IN NODES(p) WHERE y = x))'\n",
    "                          'RETURN nodes(p) as nodes, LENGTH(p) as length '\n",
    "                          'ORDER BY length')\n",
    "    for r in results:\n",
    "        print(r['nodes'])    \n",
    "        \n",
    "    "
   ]
  },
  {
   "cell_type": "code",
   "execution_count": 14,
   "metadata": {},
   "outputs": [
    {
     "name": "stdout",
     "output_type": "stream",
     "text": [
      "Marc\n",
      "Jasmine\n",
      "Matthew\n"
     ]
    }
   ],
   "source": [
    "# Find shortest paths from Marc to Matthew\n",
    "with graph.session() as session:\n",
    "    results = session.run('MATCH p = shortestpath((x)-[FRIENDS*1..]->(y)) '\n",
    "                          'WHERE x.name = \"Marc\" AND y.name = \"Matthew\" '\n",
    "                          'RETURN NODES(p) AS n ')\n",
    "    for r in results:\n",
    "        for n in r['n']:\n",
    "            print(n['name'])"
   ]
  },
  {
   "cell_type": "markdown",
   "metadata": {},
   "source": [
    "# Visualization (Attempt)"
   ]
  },
  {
   "cell_type": "code",
   "execution_count": 15,
   "metadata": {},
   "outputs": [
    {
     "name": "stdout",
     "output_type": "stream",
     "text": [
      "JP\n",
      "Matthew\n",
      "Marc\n",
      "Jasmine\n",
      "Caroline\n",
      "Michael\n"
     ]
    },
    {
     "data": {
      "image/svg+xml": [
       "<?xml version=\"1.0\" encoding=\"UTF-8\" standalone=\"no\"?>\n",
       "<!DOCTYPE svg PUBLIC \"-//W3C//DTD SVG 1.1//EN\"\n",
       " \"http://www.w3.org/Graphics/SVG/1.1/DTD/svg11.dtd\">\n",
       "<!-- Generated by graphviz version 2.42.3 (20191010.1750)\n",
       " -->\n",
       "<!-- Title: %3 Pages: 1 -->\n",
       "<svg width=\"180pt\" height=\"404pt\"\n",
       " viewBox=\"0.00 0.00 179.89 404.00\" xmlns=\"http://www.w3.org/2000/svg\" xmlns:xlink=\"http://www.w3.org/1999/xlink\">\n",
       "<g id=\"graph0\" class=\"graph\" transform=\"scale(1 1) rotate(0) translate(4 400)\">\n",
       "<title>%3</title>\n",
       "<polygon fill=\"white\" stroke=\"transparent\" points=\"-4,4 -4,-400 175.89,-400 175.89,4 -4,4\"/>\n",
       "<!-- JP -->\n",
       "<g id=\"node1\" class=\"node\">\n",
       "<title>JP</title>\n",
       "<ellipse fill=\"none\" stroke=\"black\" cx=\"90.05\" cy=\"-378\" rx=\"27\" ry=\"18\"/>\n",
       "<text text-anchor=\"middle\" x=\"90.05\" y=\"-374.3\" font-family=\"Times,serif\" font-size=\"14.00\">JP</text>\n",
       "</g>\n",
       "<!-- Matthew -->\n",
       "<g id=\"node2\" class=\"node\">\n",
       "<title>Matthew</title>\n",
       "<ellipse fill=\"none\" stroke=\"black\" cx=\"127.05\" cy=\"-306\" rx=\"44.69\" ry=\"18\"/>\n",
       "<text text-anchor=\"middle\" x=\"127.05\" y=\"-302.3\" font-family=\"Times,serif\" font-size=\"14.00\">Matthew</text>\n",
       "</g>\n",
       "<!-- JP&#45;&gt;Matthew -->\n",
       "<g id=\"edge1\" class=\"edge\">\n",
       "<title>JP&#45;&gt;Matthew</title>\n",
       "<path fill=\"none\" stroke=\"black\" d=\"M98.63,-360.76C102.98,-352.53 108.38,-342.32 113.29,-333.02\"/>\n",
       "<polygon fill=\"black\" stroke=\"black\" points=\"116.42,-334.6 117.99,-324.12 110.23,-331.33 116.42,-334.6\"/>\n",
       "</g>\n",
       "<!-- Jasmine -->\n",
       "<g id=\"node4\" class=\"node\">\n",
       "<title>Jasmine</title>\n",
       "<ellipse fill=\"none\" stroke=\"black\" cx=\"54.05\" cy=\"-234\" rx=\"44.69\" ry=\"18\"/>\n",
       "<text text-anchor=\"middle\" x=\"54.05\" y=\"-230.3\" font-family=\"Times,serif\" font-size=\"14.00\">Jasmine</text>\n",
       "</g>\n",
       "<!-- JP&#45;&gt;Jasmine -->\n",
       "<g id=\"edge2\" class=\"edge\">\n",
       "<title>JP&#45;&gt;Jasmine</title>\n",
       "<path fill=\"none\" stroke=\"black\" d=\"M84.26,-360.42C80.75,-350.03 76.33,-336.33 73.05,-324 67.59,-303.52 62.63,-280.06 59.15,-262.37\"/>\n",
       "<polygon fill=\"black\" stroke=\"black\" points=\"62.52,-261.34 57.18,-252.18 55.64,-262.66 62.52,-261.34\"/>\n",
       "</g>\n",
       "<!-- Matthew&#45;&gt;Jasmine -->\n",
       "<g id=\"edge3\" class=\"edge\">\n",
       "<title>Matthew&#45;&gt;Jasmine</title>\n",
       "<path fill=\"none\" stroke=\"black\" d=\"M105.53,-289.81C95.08,-280.84 82.76,-269.28 72.72,-259.09\"/>\n",
       "<polygon fill=\"black\" stroke=\"black\" points=\"75,-256.41 65.54,-251.63 69.95,-261.26 75,-256.41\"/>\n",
       "</g>\n",
       "<!-- Michael -->\n",
       "<g id=\"node6\" class=\"node\">\n",
       "<title>Michael</title>\n",
       "<ellipse fill=\"none\" stroke=\"black\" cx=\"93.05\" cy=\"-18\" rx=\"44.69\" ry=\"18\"/>\n",
       "<text text-anchor=\"middle\" x=\"93.05\" y=\"-14.3\" font-family=\"Times,serif\" font-size=\"14.00\">Michael</text>\n",
       "</g>\n",
       "<!-- Matthew&#45;&gt;Michael -->\n",
       "<g id=\"edge4\" class=\"edge\">\n",
       "<title>Matthew&#45;&gt;Michael</title>\n",
       "<path fill=\"none\" stroke=\"black\" d=\"M122.27,-287.88C117.57,-249.11 114.98,-151.76 100.05,-72 98.45,-63.5 96,-54.42 93.89,-46.23\"/>\n",
       "<polygon fill=\"black\" stroke=\"black\" points=\"97.26,-45.3 91.47,-36.43 90.47,-46.98 97.26,-45.3\"/>\n",
       "</g>\n",
       "<!-- Marc -->\n",
       "<g id=\"node3\" class=\"node\">\n",
       "<title>Marc</title>\n",
       "<ellipse fill=\"none\" stroke=\"black\" cx=\"52.05\" cy=\"-162\" rx=\"30.59\" ry=\"18\"/>\n",
       "<text text-anchor=\"middle\" x=\"52.05\" y=\"-158.3\" font-family=\"Times,serif\" font-size=\"14.00\">Marc</text>\n",
       "</g>\n",
       "<!-- Marc&#45;&gt;Jasmine -->\n",
       "<g id=\"edge5\" class=\"edge\">\n",
       "<title>Marc&#45;&gt;Jasmine</title>\n",
       "<path fill=\"none\" stroke=\"black\" d=\"M58.39,-179.79C59.45,-187.59 59.96,-197.07 59.87,-205.85\"/>\n",
       "<polygon fill=\"black\" stroke=\"black\" points=\"56.36,-205.92 59.44,-216.05 63.35,-206.21 56.36,-205.92\"/>\n",
       "</g>\n",
       "<!-- Caroline -->\n",
       "<g id=\"node5\" class=\"node\">\n",
       "<title>Caroline</title>\n",
       "<ellipse fill=\"none\" stroke=\"black\" cx=\"50.05\" cy=\"-90\" rx=\"50.09\" ry=\"18\"/>\n",
       "<text text-anchor=\"middle\" x=\"50.05\" y=\"-86.3\" font-family=\"Times,serif\" font-size=\"14.00\">Caroline</text>\n",
       "</g>\n",
       "<!-- Marc&#45;&gt;Caroline -->\n",
       "<g id=\"edge6\" class=\"edge\">\n",
       "<title>Marc&#45;&gt;Caroline</title>\n",
       "<path fill=\"none\" stroke=\"black\" d=\"M45.68,-144.05C44.64,-136.35 44.14,-127.03 44.22,-118.36\"/>\n",
       "<polygon fill=\"black\" stroke=\"black\" points=\"47.72,-118.41 44.63,-108.28 40.73,-118.13 47.72,-118.41\"/>\n",
       "</g>\n",
       "<!-- Jasmine&#45;&gt;Matthew -->\n",
       "<g id=\"edge8\" class=\"edge\">\n",
       "<title>Jasmine&#45;&gt;Matthew</title>\n",
       "<path fill=\"none\" stroke=\"black\" d=\"M75.39,-250.04C85.87,-259.03 98.27,-270.66 108.37,-280.91\"/>\n",
       "<polygon fill=\"black\" stroke=\"black\" points=\"106.13,-283.63 115.59,-288.41 111.18,-278.78 106.13,-283.63\"/>\n",
       "</g>\n",
       "<!-- Jasmine&#45;&gt;Marc -->\n",
       "<g id=\"edge7\" class=\"edge\">\n",
       "<title>Jasmine&#45;&gt;Marc</title>\n",
       "<path fill=\"none\" stroke=\"black\" d=\"M47.68,-216.05C46.63,-208.23 46.12,-198.75 46.23,-189.98\"/>\n",
       "<polygon fill=\"black\" stroke=\"black\" points=\"49.73,-189.93 46.66,-179.79 42.74,-189.63 49.73,-189.93\"/>\n",
       "</g>\n",
       "<!-- Caroline&#45;&gt;Marc -->\n",
       "<g id=\"edge9\" class=\"edge\">\n",
       "<title>Caroline&#45;&gt;Marc</title>\n",
       "<path fill=\"none\" stroke=\"black\" d=\"M56.45,-108.28C57.48,-116.03 57.97,-125.36 57.86,-134.01\"/>\n",
       "<polygon fill=\"black\" stroke=\"black\" points=\"54.37,-133.92 57.44,-144.05 61.36,-134.21 54.37,-133.92\"/>\n",
       "</g>\n",
       "<!-- Caroline&#45;&gt;Michael -->\n",
       "<g id=\"edge10\" class=\"edge\">\n",
       "<title>Caroline&#45;&gt;Michael</title>\n",
       "<path fill=\"none\" stroke=\"black\" d=\"M54.58,-72.05C58.92,-63.5 65.19,-52.97 71.49,-43.56\"/>\n",
       "<polygon fill=\"black\" stroke=\"black\" points=\"74.39,-45.52 77.22,-35.31 68.64,-41.52 74.39,-45.52\"/>\n",
       "</g>\n",
       "<!-- Michael&#45;&gt;Matthew -->\n",
       "<g id=\"edge12\" class=\"edge\">\n",
       "<title>Michael&#45;&gt;Matthew</title>\n",
       "<path fill=\"none\" stroke=\"black\" d=\"M106.79,-35.48C111.53,-45.83 115.71,-59.53 118.05,-72 131.82,-145.53 135.09,-234 132.48,-277.76\"/>\n",
       "<polygon fill=\"black\" stroke=\"black\" points=\"128.98,-277.64 131.69,-287.88 135.96,-278.18 128.98,-277.64\"/>\n",
       "</g>\n",
       "<!-- Michael&#45;&gt;Caroline -->\n",
       "<g id=\"edge11\" class=\"edge\">\n",
       "<title>Michael&#45;&gt;Caroline</title>\n",
       "<path fill=\"none\" stroke=\"black\" d=\"M88.42,-36.12C84.07,-44.67 77.81,-55.17 71.53,-64.55\"/>\n",
       "<polygon fill=\"black\" stroke=\"black\" points=\"68.66,-62.56 65.82,-72.76 74.4,-66.55 68.66,-62.56\"/>\n",
       "</g>\n",
       "</g>\n",
       "</svg>\n"
      ],
      "text/plain": [
       "<graphviz.dot.Digraph at 0x7f2ed8734310>"
      ]
     },
     "execution_count": 15,
     "metadata": {},
     "output_type": "execute_result"
    }
   ],
   "source": [
    "from graphviz import Digraph\n",
    "\n",
    "dot = Digraph()\n",
    "\n",
    "with graph.session() as session:\n",
    "    names = session.read_transaction(get_all_names) \n",
    "    for n in names:\n",
    "        dot.node(n) # add nodes\n",
    "\n",
    "with graph.session() as session:\n",
    "    for n in names:\n",
    "        results = session.run('MATCH (Person { name:$name })-[*1]->(p) RETURN p', name=n)\n",
    "        for r in results:\n",
    "            innerName = r['p']['name']\n",
    "            dot.edge(n, innerName) # add edges\n",
    "\n",
    "dot"
   ]
  },
  {
   "cell_type": "code",
   "execution_count": 16,
   "metadata": {},
   "outputs": [],
   "source": [
    "#close the db\n",
    "graph.close()"
   ]
  },
  {
   "cell_type": "code",
   "execution_count": null,
   "metadata": {},
   "outputs": [],
   "source": []
  }
 ],
 "metadata": {
  "kernelspec": {
   "display_name": "Python 3",
   "language": "python",
   "name": "python3"
  },
  "language_info": {
   "codemirror_mode": {
    "name": "ipython",
    "version": 3
   },
   "file_extension": ".py",
   "mimetype": "text/x-python",
   "name": "python",
   "nbconvert_exporter": "python",
   "pygments_lexer": "ipython3",
   "version": "3.8.5"
  }
 },
 "nbformat": 4,
 "nbformat_minor": 4
}
