{
 "cells": [
  {
   "cell_type": "code",
   "execution_count": 1,
   "metadata": {},
   "outputs": [],
   "source": [
    "from neo4j import GraphDatabase"
   ]
  },
  {
   "cell_type": "code",
   "execution_count": 2,
   "metadata": {},
   "outputs": [],
   "source": [
    "graph = GraphDatabase.driver(\"bolt://neo4j:7687\", auth=(\"neo4j\", \"test\"), encrypted=False)"
   ]
  },
  {
   "cell_type": "code",
   "execution_count": 3,
   "metadata": {},
   "outputs": [],
   "source": [
    "# clear all existing nodes, should use this on a huge database (just delete the graphdb file)\n",
    "with graph.session() as session:\n",
    "    session.run(\"MATCH (n) DETACH DELETE n\")"
   ]
  },
  {
   "cell_type": "markdown",
   "metadata": {},
   "source": [
    "# Create Nodes"
   ]
  },
  {
   "cell_type": "code",
   "execution_count": 4,
   "metadata": {},
   "outputs": [],
   "source": [
    "def create_person(tx, name, email=None):\n",
    "    return tx.run(\"CREATE (a:Person {name:$name, email:$email}) \"\n",
    "                  \"RETURN id(a)\", name=name, email=email).single().value()\n",
    "\n",
    "with graph.session() as session:\n",
    "    # some nodes have extra attributes (e.g. email)\n",
    "    jp_node_id = session.execute_write(create_person, \"JP\", \"jean.p.ebejer@um.edu.mt\")\n",
    "    matthew_node_id = session.execute_write(create_person, \"Matthew\")\n",
    "    marc_node_id = session.execute_write(create_person, \"Marc\")\n",
    "    jasmine_node_id = session.execute_write(create_person, \"Jasmine\")    "
   ]
  },
  {
   "cell_type": "markdown",
   "metadata": {},
   "source": [
    "# Create Relationships"
   ]
  },
  {
   "cell_type": "code",
   "execution_count": 5,
   "metadata": {},
   "outputs": [],
   "source": [
    "# don't use internal Neo4j IDs  as not reccommended\n",
    "\n",
    "def create_lectures(tx, a_name, b_name):\n",
    "    return tx.run(\"MATCH (a:Person {name: $a_name})\"\n",
    "                  \"MATCH (b:Person {name: $b_name})\"\n",
    "                  \"CREATE (a)-[r:LECTURES]->(b)\"\n",
    "                  \"RETURN type(r)\", a_name=a_name, b_name=b_name).single().value()\n",
    "\n",
    "def create_friends_bidirectional(tx, a_name, b_name, expires=None):\n",
    "    return tx.run(\"MATCH (a:Person {name: $a_name})\"\n",
    "                  \"MATCH (b:Person {name: $b_name})\"\n",
    "                  \"CREATE (a)-[r1:FRIENDS { expires: $expires }]->(b)\"\n",
    "                  \"CREATE (a)<-[r2:FRIENDS { expires: $expires }]-(b)\" # looks silly but create only allows directional\n",
    "                  \"RETURN type(r1)\", a_name=a_name, b_name=b_name, expires=expires).single().value()\n",
    "\n",
    "with graph.session() as session:\n",
    "    session.execute_write(create_lectures, \"JP\", \"Matthew\")    \n",
    "    session.execute_write(create_lectures, \"JP\", \"Jasmine\")\n",
    "    session.execute_write(create_friends_bidirectional, \"Jasmine\", \"Marc\")\n",
    "    session.execute_write(create_friends_bidirectional, \"Jasmine\", \"Matthew\", \"Jan 2019\")"
   ]
  },
  {
   "cell_type": "markdown",
   "metadata": {},
   "source": [
    "You can have a look at the above graph via your web browser http://localhost:7474/browser/ (username: neo4j and password: test).  There is a helpful [Neo4j Cypher cheatsheet](https://neo4j.com/docs/pdf/neo4j-cypher-refcard-stable.pdf)."
   ]
  },
  {
   "cell_type": "code",
   "execution_count": 6,
   "metadata": {},
   "outputs": [
    {
     "name": "stdout",
     "output_type": "stream",
     "text": [
      "JP\n",
      "Matthew\n",
      "Marc\n",
      "Jasmine\n"
     ]
    }
   ],
   "source": [
    "def get_all_names(tx):\n",
    "    names = []\n",
    "    for record in tx.run(\"MATCH (p:Person) RETURN p.name AS name\"):\n",
    "        print(record['name'])\n",
    "        names.append(record['name'])\n",
    "    return names\n",
    "\n",
    "# Example of the cypher language\n",
    "with graph.session() as session:\n",
    "    session.execute_read(get_all_names)    "
   ]
  },
  {
   "cell_type": "code",
   "execution_count": 7,
   "metadata": {},
   "outputs": [
    {
     "name": "stdout",
     "output_type": "stream",
     "text": [
      "JP jean.p.ebejer@um.edu.mt\n",
      "dict_keys(['name', 'email'])\n",
      "dict_values(['JP', 'jean.p.ebejer@um.edu.mt'])\n"
     ]
    }
   ],
   "source": [
    "  \n",
    "def match_person_node(tx, name):\n",
    "    result = tx.run(\"MATCH (a:Person {name: $name}) RETURN a\", name=name)\n",
    "    return result.single()[0]\n",
    "\n",
    "with graph.session() as session:\n",
    "    record = session.execute_read(match_person_node, \"JP\")\n",
    "    print(record['name'], record['email'])\n",
    "    print(record.keys())\n",
    "    print(record.values())"
   ]
  },
  {
   "cell_type": "code",
   "execution_count": 8,
   "metadata": {},
   "outputs": [
    {
     "name": "stdout",
     "output_type": "stream",
     "text": [
      "LECTURES\n",
      "FRIENDS\n"
     ]
    }
   ],
   "source": [
    "with graph.session() as session:\n",
    "    rels = session.run(\"MATCH (n)-[r]-(m) RETURN distinct type(r) as r\")\n",
    "    for r in rels:\n",
    "        print(r['r'])"
   ]
  },
  {
   "cell_type": "code",
   "execution_count": 9,
   "metadata": {},
   "outputs": [
    {
     "name": "stdout",
     "output_type": "stream",
     "text": [
      "JP\n",
      "Matthew\n",
      "Marc\n",
      "Jasmine\n"
     ]
    }
   ],
   "source": [
    "with graph.session() as session:\n",
    "    record = session.run(\"MATCH (n) return n\")\n",
    "    for r in record:\n",
    "        print(r['n']['name'])"
   ]
  },
  {
   "cell_type": "code",
   "execution_count": 10,
   "metadata": {},
   "outputs": [
    {
     "name": "stdout",
     "output_type": "stream",
     "text": [
      "Matthew\n",
      "Jasmine\n"
     ]
    }
   ],
   "source": [
    "with graph.session() as session:\n",
    "    record = session.run(\"MATCH (a:Person)-[:LECTURES]->(s)\"\n",
    "                         \"WHERE a.name = $name \"\n",
    "                         \"RETURN s.name as name\", name=\"JP\")\n",
    "    for r in record:\n",
    "        print(r['name'])"
   ]
  },
  {
   "cell_type": "code",
   "execution_count": 11,
   "metadata": {},
   "outputs": [
    {
     "name": "stdout",
     "output_type": "stream",
     "text": [
      "Marc\n",
      "Matthew\n"
     ]
    }
   ],
   "source": [
    "# from all of Jasmine friends ...\n",
    "with graph.session() as session:\n",
    "    results = session.run('MATCH (Person { name:\"Jasmine\" })-[:FRIENDS]->(x) RETURN x as jasmine_friend')\n",
    "    for jf in results:\n",
    "        print(jf['jasmine_friend']['name'])"
   ]
  },
  {
   "cell_type": "code",
   "execution_count": 12,
   "metadata": {},
   "outputs": [],
   "source": [
    "# add some more data\n",
    "with graph.session() as session:\n",
    "    # some nodes have extra attributes (e.g. email)\n",
    "    session.execute_write(create_person, \"Caroline\")\n",
    "    session.execute_write(create_person, \"Michael\")\n",
    "    session.execute_write(create_friends_bidirectional, \"Marc\", \"Caroline\")\n",
    "    session.execute_write(create_friends_bidirectional, \"Caroline\", \"Michael\")\n",
    "    session.execute_write(create_friends_bidirectional, \"Michael\", \"Matthew\")"
   ]
  },
  {
   "cell_type": "code",
   "execution_count": 13,
   "metadata": {},
   "outputs": [
    {
     "name": "stdout",
     "output_type": "stream",
     "text": [
      "[<Node element_id='4:000af518-52f3-4134-b3d6-e50fa02eec69:2' labels=frozenset({'Person'}) properties={'name': 'Marc'}>, <Node element_id='4:000af518-52f3-4134-b3d6-e50fa02eec69:3' labels=frozenset({'Person'}) properties={'name': 'Jasmine'}>, <Node element_id='4:000af518-52f3-4134-b3d6-e50fa02eec69:1' labels=frozenset({'Person'}) properties={'name': 'Matthew'}>]\n",
      "[<Node element_id='4:000af518-52f3-4134-b3d6-e50fa02eec69:2' labels=frozenset({'Person'}) properties={'name': 'Marc'}>, <Node element_id='4:000af518-52f3-4134-b3d6-e50fa02eec69:4' labels=frozenset({'Person'}) properties={'name': 'Caroline'}>, <Node element_id='4:000af518-52f3-4134-b3d6-e50fa02eec69:5' labels=frozenset({'Person'}) properties={'name': 'Michael'}>, <Node element_id='4:000af518-52f3-4134-b3d6-e50fa02eec69:1' labels=frozenset({'Person'}) properties={'name': 'Matthew'}>]\n"
     ]
    }
   ],
   "source": [
    "\n",
    "# Find all paths from Marc to Matthew\n",
    "with graph.session() as session:\n",
    "    results = session.run('MATCH p = ((p1:Person { name:\"Marc\" })-[r:FRIENDS*1..]->(p2:Person { name:\"Matthew\" })) '\n",
    "                          'WHERE ALL(x IN NODES(p) WHERE SINGLE(y IN NODES(p) WHERE y = x))'\n",
    "                          'RETURN nodes(p) as nodes, LENGTH(p) as length '\n",
    "                          'ORDER BY length')\n",
    "    for r in results:\n",
    "        print(r['nodes'])    \n",
    "        \n",
    "    "
   ]
  },
  {
   "cell_type": "code",
   "execution_count": 14,
   "metadata": {},
   "outputs": [
    {
     "name": "stdout",
     "output_type": "stream",
     "text": [
      "Marc\n",
      "Jasmine\n",
      "Matthew\n"
     ]
    }
   ],
   "source": [
    "# Find shortest paths from Marc to Matthew\n",
    "with graph.session() as session:\n",
    "    results = session.run('MATCH p = shortestpath((x)-[FRIENDS*1..]->(y)) '\n",
    "                          'WHERE x.name = \"Marc\" AND y.name = \"Matthew\" '\n",
    "                          'RETURN NODES(p) AS n ')\n",
    "    for r in results:\n",
    "        for n in r['n']:\n",
    "            print(n['name'])"
   ]
  },
  {
   "cell_type": "markdown",
   "metadata": {},
   "source": [
    "# Visualization (Attempt)"
   ]
  },
  {
   "cell_type": "code",
   "execution_count": 15,
   "metadata": {},
   "outputs": [
    {
     "name": "stdout",
     "output_type": "stream",
     "text": [
      "JP\n",
      "Matthew\n",
      "Marc\n",
      "Jasmine\n",
      "Caroline\n",
      "Michael\n"
     ]
    },
    {
     "data": {
      "image/svg+xml": [
       "<?xml version=\"1.0\" encoding=\"UTF-8\" standalone=\"no\"?>\n",
       "<!DOCTYPE svg PUBLIC \"-//W3C//DTD SVG 1.1//EN\"\n",
       " \"http://www.w3.org/Graphics/SVG/1.1/DTD/svg11.dtd\">\n",
       "<!-- Generated by graphviz version 2.50.0 (0)\n",
       " -->\n",
       "<!-- Pages: 1 -->\n",
       "<svg width=\"169pt\" height=\"404pt\"\n",
       " viewBox=\"0.00 0.00 168.74 404.00\" xmlns=\"http://www.w3.org/2000/svg\" xmlns:xlink=\"http://www.w3.org/1999/xlink\">\n",
       "<g id=\"graph0\" class=\"graph\" transform=\"scale(1 1) rotate(0) translate(4 400)\">\n",
       "<polygon fill=\"white\" stroke=\"transparent\" points=\"-4,4 -4,-400 164.74,-400 164.74,4 -4,4\"/>\n",
       "<!-- JP -->\n",
       "<g id=\"node1\" class=\"node\">\n",
       "<title>JP</title>\n",
       "<ellipse fill=\"none\" stroke=\"black\" cx=\"84.15\" cy=\"-378\" rx=\"27\" ry=\"18\"/>\n",
       "<text text-anchor=\"middle\" x=\"84.15\" y=\"-374.3\" font-family=\"Times,serif\" font-size=\"14.00\">JP</text>\n",
       "</g>\n",
       "<!-- Matthew -->\n",
       "<g id=\"node2\" class=\"node\">\n",
       "<title>Matthew</title>\n",
       "<ellipse fill=\"none\" stroke=\"black\" cx=\"119.15\" cy=\"-306\" rx=\"41.69\" ry=\"18\"/>\n",
       "<text text-anchor=\"middle\" x=\"119.15\" y=\"-302.3\" font-family=\"Times,serif\" font-size=\"14.00\">Matthew</text>\n",
       "</g>\n",
       "<!-- JP&#45;&gt;Matthew -->\n",
       "<g id=\"edge1\" class=\"edge\">\n",
       "<title>JP&#45;&gt;Matthew</title>\n",
       "<path fill=\"none\" stroke=\"black\" d=\"M92.26,-360.76C96.34,-352.61 101.38,-342.53 105.99,-333.31\"/>\n",
       "<polygon fill=\"black\" stroke=\"black\" points=\"109.24,-334.63 110.58,-324.12 102.98,-331.5 109.24,-334.63\"/>\n",
       "</g>\n",
       "<!-- Jasmine -->\n",
       "<g id=\"node4\" class=\"node\">\n",
       "<title>Jasmine</title>\n",
       "<ellipse fill=\"none\" stroke=\"black\" cx=\"49.15\" cy=\"-234\" rx=\"41.69\" ry=\"18\"/>\n",
       "<text text-anchor=\"middle\" x=\"49.15\" y=\"-230.3\" font-family=\"Times,serif\" font-size=\"14.00\">Jasmine</text>\n",
       "</g>\n",
       "<!-- JP&#45;&gt;Jasmine -->\n",
       "<g id=\"edge2\" class=\"edge\">\n",
       "<title>JP&#45;&gt;Jasmine</title>\n",
       "<path fill=\"none\" stroke=\"black\" d=\"M78.6,-359.92C75.34,-349.58 71.26,-336.1 68.15,-324 62.87,-303.47 57.9,-280.02 54.37,-262.34\"/>\n",
       "<polygon fill=\"black\" stroke=\"black\" points=\"57.73,-261.3 52.37,-252.16 50.87,-262.65 57.73,-261.3\"/>\n",
       "</g>\n",
       "<!-- Matthew&#45;&gt;Jasmine -->\n",
       "<g id=\"edge3\" class=\"edge\">\n",
       "<title>Matthew&#45;&gt;Jasmine</title>\n",
       "<path fill=\"none\" stroke=\"black\" d=\"M98.66,-290.15C88.59,-281.2 76.69,-269.58 66.99,-259.31\"/>\n",
       "<polygon fill=\"black\" stroke=\"black\" points=\"69.42,-256.78 60.07,-251.79 64.27,-261.52 69.42,-256.78\"/>\n",
       "</g>\n",
       "<!-- Michael -->\n",
       "<g id=\"node6\" class=\"node\">\n",
       "<title>Michael</title>\n",
       "<ellipse fill=\"none\" stroke=\"black\" cx=\"87.15\" cy=\"-18\" rx=\"41.69\" ry=\"18\"/>\n",
       "<text text-anchor=\"middle\" x=\"87.15\" y=\"-14.3\" font-family=\"Times,serif\" font-size=\"14.00\">Michael</text>\n",
       "</g>\n",
       "<!-- Matthew&#45;&gt;Michael -->\n",
       "<g id=\"edge4\" class=\"edge\">\n",
       "<title>Matthew&#45;&gt;Michael</title>\n",
       "<path fill=\"none\" stroke=\"black\" d=\"M114.17,-287.91C109.06,-249.21 105.69,-152.01 92.15,-72 90.69,-63.42 88.49,-54.21 86.68,-45.92\"/>\n",
       "<polygon fill=\"black\" stroke=\"black\" points=\"90.08,-45.11 84.66,-36.01 83.22,-46.51 90.08,-45.11\"/>\n",
       "</g>\n",
       "<!-- Marc -->\n",
       "<g id=\"node3\" class=\"node\">\n",
       "<title>Marc</title>\n",
       "<ellipse fill=\"none\" stroke=\"black\" cx=\"48.15\" cy=\"-162\" rx=\"28.7\" ry=\"18\"/>\n",
       "<text text-anchor=\"middle\" x=\"48.15\" y=\"-158.3\" font-family=\"Times,serif\" font-size=\"14.00\">Marc</text>\n",
       "</g>\n",
       "<!-- Marc&#45;&gt;Jasmine -->\n",
       "<g id=\"edge5\" class=\"edge\">\n",
       "<title>Marc&#45;&gt;Jasmine</title>\n",
       "<path fill=\"none\" stroke=\"black\" d=\"M54.25,-179.79C55.2,-187.59 55.58,-197.07 55.35,-205.85\"/>\n",
       "<polygon fill=\"black\" stroke=\"black\" points=\"51.85,-205.87 54.78,-216.05 58.84,-206.27 51.85,-205.87\"/>\n",
       "</g>\n",
       "<!-- Caroline -->\n",
       "<g id=\"node5\" class=\"node\">\n",
       "<title>Caroline</title>\n",
       "<ellipse fill=\"none\" stroke=\"black\" cx=\"46.15\" cy=\"-90\" rx=\"46.29\" ry=\"18\"/>\n",
       "<text text-anchor=\"middle\" x=\"46.15\" y=\"-86.3\" font-family=\"Times,serif\" font-size=\"14.00\">Caroline</text>\n",
       "</g>\n",
       "<!-- Marc&#45;&gt;Caroline -->\n",
       "<g id=\"edge6\" class=\"edge\">\n",
       "<title>Marc&#45;&gt;Caroline</title>\n",
       "<path fill=\"none\" stroke=\"black\" d=\"M41.83,-144.41C40.76,-136.59 40.23,-127.06 40.32,-118.23\"/>\n",
       "<polygon fill=\"black\" stroke=\"black\" points=\"43.83,-118.09 40.75,-107.96 36.84,-117.8 43.83,-118.09\"/>\n",
       "</g>\n",
       "<!-- Jasmine&#45;&gt;Matthew -->\n",
       "<g id=\"edge8\" class=\"edge\">\n",
       "<title>Jasmine&#45;&gt;Matthew</title>\n",
       "<path fill=\"none\" stroke=\"black\" d=\"M69.58,-249.8C79.72,-258.81 91.72,-270.53 101.46,-280.86\"/>\n",
       "<polygon fill=\"black\" stroke=\"black\" points=\"99.05,-283.42 108.4,-288.41 104.21,-278.68 99.05,-283.42\"/>\n",
       "</g>\n",
       "<!-- Jasmine&#45;&gt;Marc -->\n",
       "<g id=\"edge7\" class=\"edge\">\n",
       "<title>Jasmine&#45;&gt;Marc</title>\n",
       "<path fill=\"none\" stroke=\"black\" d=\"M43.03,-216.05C42.08,-208.23 41.71,-198.75 41.94,-189.98\"/>\n",
       "<polygon fill=\"black\" stroke=\"black\" points=\"45.45,-189.97 42.52,-179.79 38.46,-189.57 45.45,-189.97\"/>\n",
       "</g>\n",
       "<!-- Caroline&#45;&gt;Marc -->\n",
       "<g id=\"edge9\" class=\"edge\">\n",
       "<title>Caroline&#45;&gt;Marc</title>\n",
       "<path fill=\"none\" stroke=\"black\" d=\"M52.55,-108.28C53.58,-116.03 54.07,-125.36 53.97,-134.01\"/>\n",
       "<polygon fill=\"black\" stroke=\"black\" points=\"50.47,-133.92 53.54,-144.05 57.46,-134.21 50.47,-133.92\"/>\n",
       "</g>\n",
       "<!-- Caroline&#45;&gt;Michael -->\n",
       "<g id=\"edge10\" class=\"edge\">\n",
       "<title>Caroline&#45;&gt;Michael</title>\n",
       "<path fill=\"none\" stroke=\"black\" d=\"M50.19,-72.05C54.35,-63.38 60.44,-52.67 66.55,-43.15\"/>\n",
       "<polygon fill=\"black\" stroke=\"black\" points=\"69.46,-45.09 72.12,-34.83 63.65,-41.19 69.46,-45.09\"/>\n",
       "</g>\n",
       "<!-- Michael&#45;&gt;Matthew -->\n",
       "<g id=\"edge12\" class=\"edge\">\n",
       "<title>Michael&#45;&gt;Matthew</title>\n",
       "<path fill=\"none\" stroke=\"black\" d=\"M100.11,-35.54C104.39,-45.91 108.05,-59.61 110.15,-72 122.63,-145.76 126.47,-234.13 124.28,-277.81\"/>\n",
       "<polygon fill=\"black\" stroke=\"black\" points=\"120.78,-277.7 123.59,-287.91 127.76,-278.17 120.78,-277.7\"/>\n",
       "</g>\n",
       "<!-- Michael&#45;&gt;Caroline -->\n",
       "<g id=\"edge11\" class=\"edge\">\n",
       "<title>Michael&#45;&gt;Caroline</title>\n",
       "<path fill=\"none\" stroke=\"black\" d=\"M83.01,-36.12C78.94,-44.59 73.06,-54.96 67.12,-64.26\"/>\n",
       "<polygon fill=\"black\" stroke=\"black\" points=\"64.09,-62.5 61.46,-72.76 69.91,-66.38 64.09,-62.5\"/>\n",
       "</g>\n",
       "</g>\n",
       "</svg>\n"
      ],
      "text/plain": [
       "<graphviz.graphs.Digraph at 0x7fc03c6544f0>"
      ]
     },
     "execution_count": 15,
     "metadata": {},
     "output_type": "execute_result"
    }
   ],
   "source": [
    "from graphviz import Digraph\n",
    "\n",
    "dot = Digraph()\n",
    "\n",
    "with graph.session() as session:\n",
    "    names = session.execute_read(get_all_names) \n",
    "    for n in names:\n",
    "        dot.node(n) # add nodes\n",
    "\n",
    "with graph.session() as session:\n",
    "    for n in names:\n",
    "        results = session.run('MATCH (Person { name:$name })-[*1]->(p) RETURN p', name=n)\n",
    "        for r in results:\n",
    "            innerName = r['p']['name']\n",
    "            dot.edge(n, innerName) # add edges\n",
    "\n",
    "dot"
   ]
  },
  {
   "cell_type": "code",
   "execution_count": 16,
   "metadata": {},
   "outputs": [],
   "source": [
    "#close the db\n",
    "graph.close()"
   ]
  },
  {
   "cell_type": "code",
   "execution_count": null,
   "metadata": {},
   "outputs": [],
   "source": []
  }
 ],
 "metadata": {
  "kernelspec": {
   "display_name": "Python 3 (ipykernel)",
   "language": "python",
   "name": "python3"
  },
  "language_info": {
   "codemirror_mode": {
    "name": "ipython",
    "version": 3
   },
   "file_extension": ".py",
   "mimetype": "text/x-python",
   "name": "python",
   "nbconvert_exporter": "python",
   "pygments_lexer": "ipython3",
   "version": "3.9.13"
  }
 },
 "nbformat": 4,
 "nbformat_minor": 4
}
