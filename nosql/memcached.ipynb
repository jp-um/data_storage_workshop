{
 "cells": [
  {
   "cell_type": "code",
   "execution_count": 1,
   "metadata": {},
   "outputs": [],
   "source": [
    "import memcache"
   ]
  },
  {
   "cell_type": "markdown",
   "metadata": {},
   "source": [
    "You can ```$ telnet localhost 11211``` and issue commands like:\n",
    "\n",
    "set takes 5 params, `<key> <flags> <exptime> <bytes> [noreply]\\r\\n<value>\\r\\n`\n",
    "\n",
    "```\n",
    "set k 0 900 4\n",
    "abcd\n",
    "```\n",
    "\n",
    "```\n",
    "get k\n",
    "```\n",
    "\n",
    "```\n",
    "stats\n",
    "```\n",
    "\n",
    "Warning: no official way how to get *all* keys through python API...\n"
   ]
  },
  {
   "cell_type": "code",
   "execution_count": 2,
   "metadata": {},
   "outputs": [],
   "source": [
    "# connect\n",
    "mc = memcache.Client(['memcache:11211'], debug=1) # on which machine is memcache running"
   ]
  },
  {
   "cell_type": "code",
   "execution_count": 3,
   "metadata": {},
   "outputs": [
    {
     "name": "stdout",
     "output_type": "stream",
     "text": [
      "Some value\n"
     ]
    }
   ],
   "source": [
    "mc.set(\"some_key\", \"Some value\") # key value pair\n",
    "value = mc.get(\"some_key\")\n",
    "print(value)"
   ]
  },
  {
   "cell_type": "code",
   "execution_count": 4,
   "metadata": {},
   "outputs": [
    {
     "data": {
      "text/plain": [
       "1"
      ]
     },
     "execution_count": 4,
     "metadata": {},
     "output_type": "execute_result"
    }
   ],
   "source": [
    "mc.set(\"another_key\", 3)\n",
    "mc.delete(\"another_key\") "
   ]
  },
  {
   "cell_type": "code",
   "execution_count": 5,
   "metadata": {},
   "outputs": [
    {
     "data": {
      "text/plain": [
       "['MemcachedKeyCharacterError',\n",
       " 'MemcachedKeyError',\n",
       " 'MemcachedKeyLengthError',\n",
       " 'MemcachedKeyNoneError',\n",
       " 'MemcachedKeyTypeError',\n",
       " 'MemcachedStringEncodingError',\n",
       " '_FLAG_COMPRESSED',\n",
       " '_FLAG_INTEGER',\n",
       " '_FLAG_LONG',\n",
       " '_FLAG_PICKLE',\n",
       " '_FLAG_TEXT',\n",
       " '_SERVER_RETRIES',\n",
       " '__class__',\n",
       " '__delattr__',\n",
       " '__dict__',\n",
       " '__dir__',\n",
       " '__doc__',\n",
       " '__eq__',\n",
       " '__format__',\n",
       " '__ge__',\n",
       " '__getattribute__',\n",
       " '__gt__',\n",
       " '__hash__',\n",
       " '__init__',\n",
       " '__init_subclass__',\n",
       " '__le__',\n",
       " '__lt__',\n",
       " '__module__',\n",
       " '__ne__',\n",
       " '__new__',\n",
       " '__reduce__',\n",
       " '__reduce_ex__',\n",
       " '__repr__',\n",
       " '__setattr__',\n",
       " '__sizeof__',\n",
       " '__str__',\n",
       " '__subclasshook__',\n",
       " '_deletetouch',\n",
       " '_encode_cmd',\n",
       " '_encode_key',\n",
       " '_expect_cas_value',\n",
       " '_expectvalue',\n",
       " '_get',\n",
       " '_get_server',\n",
       " '_incrdecr',\n",
       " '_init_buckets',\n",
       " '_map_and_prefix_keys',\n",
       " '_recv_value',\n",
       " '_set',\n",
       " '_statlog',\n",
       " '_val_to_store_info',\n",
       " 'add',\n",
       " 'append',\n",
       " 'buckets',\n",
       " 'cache_cas',\n",
       " 'cas',\n",
       " 'cas_ids',\n",
       " 'check_key',\n",
       " 'compressor',\n",
       " 'dead_retry',\n",
       " 'debug',\n",
       " 'debuglog',\n",
       " 'decompressor',\n",
       " 'decr',\n",
       " 'delete',\n",
       " 'delete_multi',\n",
       " 'disconnect_all',\n",
       " 'do_check_key',\n",
       " 'flush_all',\n",
       " 'flush_on_reconnect',\n",
       " 'forget_dead_hosts',\n",
       " 'get',\n",
       " 'get_multi',\n",
       " 'get_slab_stats',\n",
       " 'get_slabs',\n",
       " 'get_stats',\n",
       " 'gets',\n",
       " 'incr',\n",
       " 'persistent_id',\n",
       " 'persistent_load',\n",
       " 'pickleProtocol',\n",
       " 'pickler',\n",
       " 'picklerIsKeyword',\n",
       " 'prepend',\n",
       " 'replace',\n",
       " 'reset_cas',\n",
       " 'server_max_key_length',\n",
       " 'server_max_value_length',\n",
       " 'servers',\n",
       " 'set',\n",
       " 'set_multi',\n",
       " 'set_servers',\n",
       " 'socket_timeout',\n",
       " 'stats',\n",
       " 'touch',\n",
       " 'unpickler']"
      ]
     },
     "execution_count": 5,
     "metadata": {},
     "output_type": "execute_result"
    }
   ],
   "source": [
    "dir(mc) # show us what (methods, classes etc.) is contained in the client\n",
    "## Please note !\n",
    "## In the general case, there is no way to list all the keys that a \n",
    "## memcached instance is storing. "
   ]
  },
  {
   "cell_type": "code",
   "execution_count": 6,
   "metadata": {},
   "outputs": [
    {
     "data": {
      "text/plain": [
       "{'set': 2, 'get': 1, 'delete': 1}"
      ]
     },
     "execution_count": 6,
     "metadata": {},
     "output_type": "execute_result"
    }
   ],
   "source": [
    "mc.stats"
   ]
  },
  {
   "cell_type": "code",
   "execution_count": 7,
   "metadata": {},
   "outputs": [
    {
     "data": {
      "text/plain": [
       "2"
      ]
     },
     "execution_count": 7,
     "metadata": {},
     "output_type": "execute_result"
    }
   ],
   "source": [
    "mc.set(\"key\", 1)   # note that the key used for incr/decr must be a string.\n",
    "mc.incr(\"key\")"
   ]
  },
  {
   "cell_type": "code",
   "execution_count": 8,
   "metadata": {},
   "outputs": [
    {
     "data": {
      "text/plain": [
       "1"
      ]
     },
     "execution_count": 8,
     "metadata": {},
     "output_type": "execute_result"
    }
   ],
   "source": [
    "mc.decr(\"key\")"
   ]
  },
  {
   "cell_type": "code",
   "execution_count": 9,
   "metadata": {},
   "outputs": [
    {
     "data": {
      "text/plain": [
       "[('memcache:11211 (1)',\n",
       "  {'pid': '7',\n",
       "   'uptime': '169',\n",
       "   'time': '1606919977',\n",
       "   'version': '1.6.9',\n",
       "   'libevent': '2.1.8-stable',\n",
       "   'pointer_size': '64',\n",
       "   'rusage_user': '0.033447',\n",
       "   'rusage_system': '0.013379',\n",
       "   'max_connections': '1024',\n",
       "   'curr_connections': '2',\n",
       "   'total_connections': '3',\n",
       "   'rejected_connections': '0',\n",
       "   'connection_structures': '3',\n",
       "   'response_obj_oom': '0',\n",
       "   'response_obj_count': '1',\n",
       "   'response_obj_bytes': '16384',\n",
       "   'read_buf_count': '2',\n",
       "   'read_buf_bytes': '32768',\n",
       "   'read_buf_bytes_free': '0',\n",
       "   'read_buf_oom': '0',\n",
       "   'reserved_fds': '20',\n",
       "   'cmd_get': '1',\n",
       "   'cmd_set': '3',\n",
       "   'cmd_flush': '0',\n",
       "   'cmd_touch': '0',\n",
       "   'cmd_meta': '0',\n",
       "   'get_hits': '1',\n",
       "   'get_misses': '0',\n",
       "   'get_expired': '0',\n",
       "   'get_flushed': '0',\n",
       "   'delete_misses': '0',\n",
       "   'delete_hits': '1',\n",
       "   'incr_misses': '0',\n",
       "   'incr_hits': '1',\n",
       "   'decr_misses': '0',\n",
       "   'decr_hits': '1',\n",
       "   'cas_misses': '0',\n",
       "   'cas_hits': '0',\n",
       "   'cas_badval': '0',\n",
       "   'touch_hits': '0',\n",
       "   'touch_misses': '0',\n",
       "   'auth_cmds': '0',\n",
       "   'auth_errors': '0',\n",
       "   'bytes_read': '146',\n",
       "   'bytes_written': '78',\n",
       "   'limit_maxbytes': '67108864',\n",
       "   'accepting_conns': '1',\n",
       "   'listen_disabled_num': '0',\n",
       "   'time_in_listen_disabled_us': '0',\n",
       "   'threads': '4',\n",
       "   'conn_yields': '0',\n",
       "   'hash_power_level': '16',\n",
       "   'hash_bytes': '524288',\n",
       "   'hash_is_expanding': '0',\n",
       "   'slab_reassign_rescues': '0',\n",
       "   'slab_reassign_chunk_rescues': '0',\n",
       "   'slab_reassign_evictions_nomem': '0',\n",
       "   'slab_reassign_inline_reclaim': '0',\n",
       "   'slab_reassign_busy_items': '0',\n",
       "   'slab_reassign_busy_deletes': '0',\n",
       "   'slab_reassign_running': '0',\n",
       "   'slabs_moved': '0',\n",
       "   'lru_crawler_running': '0',\n",
       "   'lru_crawler_starts': '2',\n",
       "   'lru_maintainer_juggles': '218',\n",
       "   'malloc_fails': '0',\n",
       "   'log_worker_dropped': '0',\n",
       "   'log_worker_written': '0',\n",
       "   'log_watcher_skipped': '0',\n",
       "   'log_watcher_sent': '0',\n",
       "   'unexpected_napi_ids': '0',\n",
       "   'round_robin_fallback': '0',\n",
       "   'bytes': '148',\n",
       "   'curr_items': '2',\n",
       "   'total_items': '3',\n",
       "   'slab_global_page_pool': '0',\n",
       "   'expired_unfetched': '0',\n",
       "   'evicted_unfetched': '0',\n",
       "   'evicted_active': '0',\n",
       "   'evictions': '0',\n",
       "   'reclaimed': '0',\n",
       "   'crawler_reclaimed': '0',\n",
       "   'crawler_items_checked': '0',\n",
       "   'lrutail_reflocked': '0',\n",
       "   'moves_to_cold': '0',\n",
       "   'moves_to_warm': '0',\n",
       "   'moves_within_lru': '0',\n",
       "   'direct_reclaims': '0',\n",
       "   'lru_bumps_dropped': '0'})]"
      ]
     },
     "execution_count": 9,
     "metadata": {},
     "output_type": "execute_result"
    }
   ],
   "source": [
    "mc.get_stats()"
   ]
  },
  {
   "cell_type": "code",
   "execution_count": null,
   "metadata": {},
   "outputs": [],
   "source": []
  }
 ],
 "metadata": {
  "kernelspec": {
   "display_name": "Python 3",
   "language": "python",
   "name": "python3"
  },
  "language_info": {
   "codemirror_mode": {
    "name": "ipython",
    "version": 3
   },
   "file_extension": ".py",
   "mimetype": "text/x-python",
   "name": "python",
   "nbconvert_exporter": "python",
   "pygments_lexer": "ipython3",
   "version": "3.8.5"
  }
 },
 "nbformat": 4,
 "nbformat_minor": 4
}
