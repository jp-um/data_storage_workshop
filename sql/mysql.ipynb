{
 "cells": [
  {
   "cell_type": "code",
   "execution_count": 1,
   "metadata": {},
   "outputs": [],
   "source": [
    "import mysql.connector"
   ]
  },
  {
   "cell_type": "markdown",
   "metadata": {},
   "source": [
    "For the following to work make sure to import the ```insurance.sql``` script into the database first!  This can be done with:\n",
    "\n",
    "```bash\n",
    "docker exec -i some-mysql mysql -h0.0.0.0 -uroot -pmy-secret-pwd < insurance.sql\n",
    "```"
   ]
  },
  {
   "cell_type": "code",
   "execution_count": 2,
   "metadata": {},
   "outputs": [],
   "source": [
    "# connect to the db\n",
    "conn = mysql.connector.connect(user='myuser', \n",
    "                               password='FinoAllaFine!',\n",
    "                               host='mysql',\n",
    "                               port=3306,\n",
    "                               database='insurance', \n",
    "                               use_pure=True)\n",
    "\n",
    "conn.autocommit = True # set autocommit to true"
   ]
  },
  {
   "cell_type": "code",
   "execution_count": 3,
   "metadata": {},
   "outputs": [
    {
     "data": {
      "text/plain": [
       "True"
      ]
     },
     "execution_count": 3,
     "metadata": {},
     "output_type": "execute_result"
    }
   ],
   "source": [
    "# insert gonzalo\n",
    "query = \"insert into insurance.driver(licno, name, surname, gender) values (%s, %s, %s, %s)\"\n",
    "args =  ('999999', 'Gonzalo', 'Higuain', 'M')\n",
    "cursor = conn.cursor()\n",
    "cursor.execute(query, args)\n",
    "cursor.close()"
   ]
  },
  {
   "cell_type": "code",
   "execution_count": 4,
   "metadata": {},
   "outputs": [
    {
     "data": {
      "text/plain": [
       "True"
      ]
     },
     "execution_count": 4,
     "metadata": {},
     "output_type": "execute_result"
    }
   ],
   "source": [
    "query = \"UPDATE driver SET surname = %s WHERE licno = %s\"\n",
    "data = (\"Mallia\", \"999999\")\n",
    "cursor = conn.cursor()\n",
    "cursor.execute(query, data)\n",
    "cursor.close()"
   ]
  },
  {
   "cell_type": "code",
   "execution_count": 5,
   "metadata": {},
   "outputs": [
    {
     "name": "stdout",
     "output_type": "stream",
     "text": [
      "Total Row(s): 9\n",
      "('111111', 'Jean-Paul', 'Ebejer', 'M')\n",
      "('222222', 'Alan', 'Aguis', 'F')\n",
      "('333333', 'Eman', 'Borg', 'M')\n",
      "('444444', 'Carla', 'Mamo', 'F')\n",
      "('555555', 'Joe', 'Tonna', 'M')\n",
      "('666666', 'John', 'Grech', 'M')\n",
      "('777777', 'Jon', 'Pires', 'M')\n",
      "('888888', 'Alba', 'Mamo', 'F')\n",
      "('999999', 'Gonzalo', 'Mallia', 'M')\n"
     ]
    },
    {
     "data": {
      "text/plain": [
       "True"
      ]
     },
     "execution_count": 5,
     "metadata": {},
     "output_type": "execute_result"
    }
   ],
   "source": [
    "cursor = conn.cursor()\n",
    "cursor.execute(\"SELECT * FROM driver\")\n",
    "rows = cursor.fetchall() # fetchmany() if this resultset is huge\n",
    "print('Total Row(s):', cursor.rowcount)\n",
    "for row in rows:\n",
    "    print(row)\n",
    "cursor.close()"
   ]
  },
  {
   "cell_type": "code",
   "execution_count": 6,
   "metadata": {},
   "outputs": [
    {
     "data": {
      "text/plain": [
       "True"
      ]
     },
     "execution_count": 6,
     "metadata": {},
     "output_type": "execute_result"
    }
   ],
   "source": [
    "query = \"delete from insurance.driver where licno=%s\"\n",
    "cursor = conn.cursor()\n",
    "cursor.execute(query, (\"999999\", ))\n",
    "cursor.close()"
   ]
  },
  {
   "cell_type": "code",
   "execution_count": 7,
   "metadata": {},
   "outputs": [
    {
     "name": "stdout",
     "output_type": "stream",
     "text": [
      "Total Row(s): 8\n",
      "('111111', 'Jean-Paul', 'Ebejer', 'M')\n",
      "('222222', 'Alan', 'Aguis', 'F')\n",
      "('333333', 'Eman', 'Borg', 'M')\n",
      "('444444', 'Carla', 'Mamo', 'F')\n",
      "('555555', 'Joe', 'Tonna', 'M')\n",
      "('666666', 'John', 'Grech', 'M')\n",
      "('777777', 'Jon', 'Pires', 'M')\n",
      "('888888', 'Alba', 'Mamo', 'F')\n"
     ]
    },
    {
     "data": {
      "text/plain": [
       "True"
      ]
     },
     "execution_count": 7,
     "metadata": {},
     "output_type": "execute_result"
    }
   ],
   "source": [
    "cursor = conn.cursor()\n",
    "cursor.execute(\"SELECT * FROM driver\")\n",
    "rows = cursor.fetchall() # fetchmany() if this resultset is huge\n",
    "print('Total Row(s):', cursor.rowcount)\n",
    "for row in rows:\n",
    "    print(row)\n",
    "cursor.close()"
   ]
  },
  {
   "cell_type": "code",
   "execution_count": 8,
   "metadata": {},
   "outputs": [],
   "source": [
    "conn.close()"
   ]
  },
  {
   "cell_type": "code",
   "execution_count": null,
   "metadata": {},
   "outputs": [],
   "source": []
  }
 ],
 "metadata": {
  "anaconda-cloud": {},
  "kernelspec": {
   "display_name": "Python 3 (ipykernel)",
   "language": "python",
   "name": "python3"
  },
  "language_info": {
   "codemirror_mode": {
    "name": "ipython",
    "version": 3
   },
   "file_extension": ".py",
   "mimetype": "text/x-python",
   "name": "python",
   "nbconvert_exporter": "python",
   "pygments_lexer": "ipython3",
   "version": "3.9.13"
  }
 },
 "nbformat": 4,
 "nbformat_minor": 4
}
